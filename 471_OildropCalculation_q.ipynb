{
  "nbformat": 4,
  "nbformat_minor": 0,
  "metadata": {
    "colab": {
      "name": "471-OildropCalculation_q.ipynb",
      "provenance": [],
      "collapsed_sections": [],
      "authorship_tag": "ABX9TyN1h/Y9dK543EprWKZU+8Ko",
      "include_colab_link": true
    },
    "kernelspec": {
      "name": "python3",
      "display_name": "Python 3"
    },
    "language_info": {
      "name": "python"
    }
  },
  "cells": [
    {
      "cell_type": "markdown",
      "metadata": {
        "id": "view-in-github",
        "colab_type": "text"
      },
      "source": [
        "<a href=\"https://colab.research.google.com/github/pbelousova/471-Lab/blob/main/471_OildropCalculation_q.ipynb\" target=\"_parent\"><img src=\"https://colab.research.google.com/assets/colab-badge.svg\" alt=\"Open In Colab\"/></a>"
      ]
    },
    {
      "cell_type": "code",
      "source": [
        "pip install uncertainties"
      ],
      "metadata": {
        "id": "RKKT-FjAQeND"
      },
      "execution_count": null,
      "outputs": []
    },
    {
      "cell_type": "code",
      "source": [
        "import pandas as pd\n",
        "import plotly.express as px\n",
        "import numpy as np\n",
        "import math\n",
        "from uncertainties import ufloat\n",
        "from uncertainties import unumpy"
      ],
      "metadata": {
        "id": "fpTNW_nA1vZf"
      },
      "execution_count": 2,
      "outputs": []
    },
    {
      "cell_type": "code",
      "source": [
        "#DROP 1 NO SOURCE\n",
        "\n",
        "l = ufloat(5e-4, 0.00005)\n",
        "d = ufloat(7.64e-3, 0.005e-3)\n",
        "ro = ufloat(886, 0)\n",
        "g  = ufloat(9.8, 0)\n",
        "nu = ufloat(1.8320e-5, 0.002e-5)\n",
        "b = ufloat(8.20e-3, 0)\n",
        "p = ufloat(102743.03, 0)\n",
        "V = ufloat(499.63, 0.05)\n",
        "\n",
        "# Calculation of the fall and rise velocities, v_f, of the droplet #1 with no alpha source\n",
        "\n",
        "tu_unc = unumpy.uarray([2.59, 5.09, 5.13, 4.94, 5.47, 4.91, 5.00, 5.84, 5.00, 5.35, 5.22, 5.41, 5.35, 5.18, 5.00], \n",
        "                       [0.005, 0.005, 0.005, 0.005, 0.005, 0.005, 0.005, 0.005, 0.005, 0.005, 0.005, 0.005, 0.005, 0.005, 0.005])\n",
        "td_unc = unumpy.uarray([1.56, 2.56, 2.38, 2.54, 2.75, 2.47, 2.47, 2.50, 2.56, 2.66, 2.56, 2.43, 2.50, 2.28, 2.60], \n",
        "                       [0.005, 0.005, 0.005, 0.005, 0.005, 0.005, 0.005, 0.005, 0.005, 0.005, 0.005, 0.005, 0.005, 0.005, 0.005])\n",
        "\n",
        "vr_unc = l/tu_unc\n",
        "vf_unc = l/td_unc\n",
        "\n",
        "# Calculation for the radius, a, of the droplet #1 with no alpha source\n",
        "\n",
        "a = (( (b/(2*p))**2 + ((9*nu)/(2*g*ro))*(vf_unc) )**(1/2) - (b/(2*p))) \n",
        "\n",
        "# Calculation of the mass, m, of the droplet #1 with no alpha source\n",
        "\n",
        "m = (4/3)*math.pi*ro * (a)**3\n",
        "\n",
        "# Calculation for the charge of an electron, q, of the droplet #1 with no alpha source\n",
        "\n",
        "q = ((m*g*d)/(V*vf_unc)) * (vf_unc + vr_unc)\n",
        "\n",
        "#print('vel up', vr_unc)\n",
        "#print('vel down', vf_unc)\n",
        "#print('radius in mm', a_mm, 'radius in m', a)\n",
        "#print('mass', m)\n",
        "#print('charge drop1 no source', q)\n",
        "\n",
        "########################################################################################\n",
        "\n",
        "avg_vr = np.mean(vr_unc)\n",
        "avg_vf = np.mean(vf_unc)\n",
        "\n",
        "avg_a = np.mean(a)\n",
        "avg_m = np.mean(m)\n",
        "avg_q = np.mean(q)\n",
        "\n",
        "print('average vel up', avg_vr)\n",
        "print('average vel down', avg_vf)\n",
        "print('average radius in m', avg_a)\n",
        "print('average mass', avg_m)\n",
        "print('average charge drop1 no source', avg_q)\n"
      ],
      "metadata": {
        "colab": {
          "base_uri": "https://localhost:8080/"
        },
        "id": "7wMI2O0-uX9k",
        "outputId": "d80af4ee-c123-43ad-f88f-c6317fadeb56"
      },
      "execution_count": 9,
      "outputs": [
        {
          "output_type": "stream",
          "name": "stdout",
          "text": [
            "average vel up 0.000103+/-0.000010\n",
            "average vel down 0.000207+/-0.000021\n",
            "average radius in m (1.36+/-0.07)e-06\n",
            "average mass (9.5+/-1.5)e-15\n",
            "average charge drop1 no source (2.13+/-0.33)e-18\n"
          ]
        }
      ]
    },
    {
      "cell_type": "code",
      "source": [
        "#DROP 2 NO SOURCE\n",
        "\n",
        "l = ufloat(5e-4, 0.00005)\n",
        "d = ufloat(7.64e-3, 0.005e-3)\n",
        "ro = ufloat(886, 0)\n",
        "g  = ufloat(9.8, 0)\n",
        "nu = ufloat(1.8320e-5, 0.002e-5)\n",
        "b = ufloat(8.20e-3, 0)\n",
        "p = ufloat(102641.44, 0)\n",
        "V = ufloat(499.63, 0.05)\n",
        "\n",
        "# Calculation of the fall and rise velocities, v_f, of the droplet #1 with no alpha source\n",
        "\n",
        "tu_unc = unumpy.uarray([4.94, 4.74, 4.59, 4.62, 4.63, 4.37, 4.38, 4.57, 4.65, 4.81, 4.75, 4.31, 4.47, 4.63, 4.36], \n",
        "                       [0.005, 0.005, 0.005, 0.005, 0.005, 0.005, 0.005, 0.005, 0.005, 0.005, 0.005, 0.005, 0.005, 0.005, 0.005])\n",
        "td_unc = unumpy.uarray([3.06, 2.72, 3.00, 2.94, 3.06, 3.03, 2.81, 2.97, 2.91, 3.19, 2.91, 3.00, 3.25, 2.94, 3.00], \n",
        "                       [0.005, 0.005, 0.005, 0.005, 0.005, 0.005, 0.005, 0.005, 0.005, 0.005, 0.005, 0.005, 0.005, 0.005, 0.005])\n",
        "\n",
        "vr_unc = l/tu_unc\n",
        "vf_unc = l/td_unc\n",
        "\n",
        "# Calculation for the radius, a, of the droplet #1 with no alpha source\n",
        "\n",
        "a = (( (b/(2*p))**2 + ((9*nu)/(2*g*ro))*(vf_unc) )**(1/2) - (b/(2*p))) \n",
        "\n",
        "# Calculation of the mass, m, of the droplet #1 with no alpha source\n",
        "\n",
        "m = (4/3)*math.pi*ro * (a)**3\n",
        "\n",
        "# Calculation for the charge of an electron, q, of the droplet #1 with no alpha source\n",
        "\n",
        "q = ((m*g*d)/(V*vf_unc)) * (vf_unc + vr_unc)\n",
        "\n",
        "#print('vel up', vr_unc)\n",
        "#print('vel down', vf_unc)\n",
        "#print('radius in mm', a_mm, 'radius in m', a)\n",
        "#print('mass', m)\n",
        "#print('charge drop1 no source', q)\n",
        "\n",
        "########################################################################################\n",
        "\n",
        "avg_vr = np.mean(vr_unc)\n",
        "avg_vf = np.mean(vf_unc)\n",
        "\n",
        "avg_a = np.mean(a)\n",
        "avg_m = np.mean(m)\n",
        "avg_q = np.mean(q)\n",
        "\n",
        "print('average vel up', avg_vr)\n",
        "print('average vel down', avg_vf)\n",
        "print('average radius in m', avg_a)\n",
        "print('average mass', avg_m)\n",
        "print('average charge drop2 no source', avg_q)\n"
      ],
      "metadata": {
        "colab": {
          "base_uri": "https://localhost:8080/"
        },
        "id": "ON2IywxrvgSd",
        "outputId": "d1e4b546-2724-48dc-f993-27937ca21530"
      },
      "execution_count": 10,
      "outputs": [
        {
          "output_type": "stream",
          "name": "stdout",
          "text": [
            "average vel up 0.000109+/-0.000011\n",
            "average vel down 0.000168+/-0.000017\n",
            "average radius in m (1.22+/-0.06)e-06\n",
            "average mass (6.8+/-1.1)e-15\n",
            "average charge drop2 no source (1.68+/-0.26)e-18\n"
          ]
        }
      ]
    },
    {
      "cell_type": "code",
      "source": [
        "#DROP 2 SOURCE 1\n",
        "\n",
        "l = ufloat(5e-4, 0.00005)\n",
        "d = ufloat(7.64e-3, 0.005e-3)\n",
        "ro = ufloat(886, 0)\n",
        "g  = ufloat(9.8, 0)\n",
        "nu = ufloat(1.8360e-5, 0.002e-5)\n",
        "b = ufloat(8.20e-3, 0)\n",
        "p = ufloat(102505.98, 0)\n",
        "V = ufloat(499.63, 0.05)\n",
        "\n",
        "# Calculation of the fall and rise velocities, v_f, of the droplet #2 with alpha source 1\n",
        "\n",
        "tu_unc = unumpy.uarray([12.94, 14.40, 14.03, 12.19, 13.29, 14.03, 12.38, 14.19, 13.78, 13.60, 13.47, 14.34, 13.94, 14.5, 13.78], \n",
        "                       [0.005, 0.005, 0.005, 0.005, 0.005, 0.005, 0.005, 0.005, 0.005, 0.005, 0.005, 0.005, 0.005, 0.005, 0.005])\n",
        "td_unc = unumpy.uarray([5.38, 5.34, 5.19, 5.28, 4.97, 5.13, 5.06, 5.06, 5.13, 4.91, 5.60, 5.13, 5.19, 5.34, 5.19], \n",
        "                       [0.005, 0.005, 0.005, 0.005, 0.005, 0.005, 0.005, 0.005, 0.005, 0.005, 0.005, 0.005, 0.005, 0.005, 0.005])\n",
        "\n",
        "vr_unc = l/tu_unc\n",
        "vf_unc = l/td_unc\n",
        "\n",
        "# Calculation for the radius, a, of the droplet #2 with alpha source 1\n",
        "\n",
        "a = (( (b/(2*p))**2 + ((9*nu)/(2*g*ro))*(vf_unc) )**(1/2) - (b/(2*p))) \n",
        "\n",
        "# Calculation of the mass, m, of the droplet #2 with alpha source 1\n",
        "\n",
        "m = (4/3)*math.pi*ro * (a)**3\n",
        "\n",
        "# Calculation for the charge of an electron, q, of the droplet #2 with alpha source 1\n",
        "\n",
        "q = ((m*g*d)/(V*vf_unc)) * (vf_unc + vr_unc)\n",
        "\n",
        "#print('vel up', vr_unc)\n",
        "#print('vel down', vf_unc)\n",
        "#print('radius in mm', a_mm, 'radius in m', a)\n",
        "#print('mass', m)\n",
        "#print('charge drop1 no source', q)\n",
        "\n",
        "########################################################################################\n",
        "\n",
        "avg_vr = np.mean(vr_unc)\n",
        "avg_vf = np.mean(vf_unc)\n",
        "\n",
        "avg_a = np.mean(a)\n",
        "avg_m = np.mean(m)\n",
        "avg_q = np.mean(q)\n",
        "\n",
        "print('average vel up', avg_vr)\n",
        "print('average vel down', avg_vf)\n",
        "print('average radius in m', avg_a)\n",
        "print('average mass', avg_m)\n",
        "print('average charge drop2 source 1', avg_q)\n"
      ],
      "metadata": {
        "colab": {
          "base_uri": "https://localhost:8080/"
        },
        "id": "EPZDCjwqw3Y7",
        "outputId": "eddd906d-3e69-4736-cb94-d3b93c0320a0"
      },
      "execution_count": 11,
      "outputs": [
        {
          "output_type": "stream",
          "name": "stdout",
          "text": [
            "average vel up (3.7+/-0.4)e-05\n",
            "average vel down (9.6+/-1.0)e-05\n",
            "average radius in m (9.2+/-0.5)e-07\n",
            "average mass (2.9+/-0.4)e-15\n",
            "average charge drop2 source 1 (6.0+/-0.9)e-19\n"
          ]
        }
      ]
    },
    {
      "cell_type": "code",
      "source": [
        "#DROP 2 SOURCE 2\n",
        "\n",
        "l = ufloat(5e-4, 0.00005)\n",
        "d = ufloat(7.64e-3, 0.005e-3)\n",
        "ro = ufloat(886, 0)\n",
        "g  = ufloat(9.8, 0)\n",
        "nu = ufloat(1.8360e-5, 0.002e-5)\n",
        "b = ufloat(8.20e-3, 0)\n",
        "p = ufloat(102505.98, 0)\n",
        "V = ufloat(499.63, 0.05)\n",
        "\n",
        "# Calculation of the fall and rise velocities, v_f, of the droplet #2 with alpha source 2\n",
        "\n",
        "tu_unc = unumpy.uarray([0.94, 1.12, 0.94, 1.03, 1.06, 0.94, 1.25, 1.18, 1.16, 1.72, 1.65, 2.06, 2.18, 2.00, 2.06], \n",
        "                       [0.005, 0.005, 0.005, 0.005, 0.005, 0.005, 0.005, 0.005, 0.005, 0.005, 0.005, 0.005, 0.005, 0.005, 0.005])\n",
        "td_unc = unumpy.uarray([0.93, 1.03, 0.84, 0.84, 1.00, 0.97, 1.00, 0.91, 1.25, 1.12, 1.13, 1.47, 1.59, 1.50, 1.59], \n",
        "                       [0.005, 0.005, 0.005, 0.005, 0.005, 0.005, 0.005, 0.005, 0.005, 0.005, 0.005, 0.005, 0.005, 0.005, 0.005])\n",
        "\n",
        "vr_unc = l/tu_unc\n",
        "vf_unc = l/td_unc\n",
        "\n",
        "# Calculation for the radius, a, of the droplet #2 with alpha source 2\n",
        "\n",
        "a = (( (b/(2*p))**2 + ((9*nu)/(2*g*ro))*(vf_unc) )**(1/2) - (b/(2*p))) \n",
        "\n",
        "# Calculation of the mass, m, of the droplet #2 with alpha source 2\n",
        "\n",
        "m = (4/3)*math.pi*ro * (a)**3\n",
        "\n",
        "# Calculation for the charge of an electron, q, of the droplet #2 with alpha source 2\n",
        "\n",
        "q = ((m*g*d)/(V*vf_unc)) * (vf_unc + vr_unc)\n",
        "\n",
        "#print('vel up', vr_unc)\n",
        "#print('vel down', vf_unc)\n",
        "#print('radius in mm', a_mm, 'radius in m', a)\n",
        "#print('mass', m)\n",
        "#print('charge drop1 no source', q)\n",
        "\n",
        "########################################################################################\n",
        "\n",
        "avg_vr = np.mean(vr_unc)\n",
        "avg_vf = np.mean(vf_unc)\n",
        "\n",
        "avg_a = np.mean(a)\n",
        "avg_m = np.mean(m)\n",
        "avg_q = np.mean(q)\n",
        "\n",
        "print('average vel up', avg_vr)\n",
        "print('average vel down', avg_vf)\n",
        "print('average radius in m', avg_a)\n",
        "print('average mass', avg_m)\n",
        "print('average charge drop2 source 2', avg_q)\n"
      ],
      "metadata": {
        "colab": {
          "base_uri": "https://localhost:8080/"
        },
        "id": "39i9VLAayLhZ",
        "outputId": "3858fccb-2b6f-4f0f-de3d-d536dc05cb06"
      },
      "execution_count": 12,
      "outputs": [
        {
          "output_type": "stream",
          "name": "stdout",
          "text": [
            "average vel up 0.00039+/-0.00004\n",
            "average vel down 0.00046+/-0.00005\n",
            "average radius in m (2.04+/-0.10)e-06\n",
            "average mass (3.2+/-0.5)e-14\n",
            "average charge drop2 source 2 (9.0+/-1.4)e-18\n"
          ]
        }
      ]
    },
    {
      "cell_type": "code",
      "source": [
        "#DROP 2 SOURCE 3\n",
        "\n",
        "l = ufloat(5e-4, 0.00005)\n",
        "d = ufloat(7.64e-3, 0.005e-3)\n",
        "ro = ufloat(886, 0)\n",
        "g  = ufloat(9.8, 0)\n",
        "nu = ufloat(1.8360e-5, 0.002e-5)\n",
        "b = ufloat(8.20e-3, 0)\n",
        "p = ufloat(102505.98, 0)\n",
        "V = ufloat(499.63, 0.05)\n",
        "\n",
        "# Calculation of the fall and rise velocities, v_f, of the droplet #2 with alpha source 3\n",
        "\n",
        "tu_unc = unumpy.uarray([1.56, 1.82, 1.63, 1.19, 1.09, 1.09, 1.18, 1.19, 1.13, 1.13, 1.25, 0.94, 0.87, 0.94, 0.66], \n",
        "                       [0.005, 0.005, 0.005, 0.005, 0.005, 0.005, 0.005, 0.005, 0.005, 0.005, 0.005, 0.005, 0.005, 0.005, 0.005])\n",
        "td_unc = unumpy.uarray([1.38, 1.35, 1.41, 1.31, 1.19, 1.03, 1.19, 1.03, 0.97, 1.10, 0.97, 0.75, 0.66, 0.82, 0.81], \n",
        "                       [0.005, 0.005, 0.005, 0.005, 0.005, 0.005, 0.005, 0.005, 0.005, 0.005, 0.005, 0.005, 0.005, 0.005, 0.005])\n",
        "\n",
        "vr_unc = l/tu_unc\n",
        "vf_unc = l/td_unc\n",
        "\n",
        "# Calculation for the radius, a, of the droplet #2 with alpha source 3\n",
        "\n",
        "a = (( (b/(2*p))**2 + ((9*nu)/(2*g*ro))*(vf_unc) )**(1/2) - (b/(2*p))) \n",
        "\n",
        "# Calculation of the mass, m, of the droplet #2 with alpha source 3\n",
        "\n",
        "m = (4/3)*math.pi*ro * (a)**3\n",
        "\n",
        "# Calculation for the charge of an electron, q, of the droplet #2 with alpha source 3\n",
        "\n",
        "q = ((m*g*d)/(V*vf_unc)) * (vf_unc + vr_unc)\n",
        "\n",
        "#print('vel up', vr_unc)\n",
        "#print('vel down', vf_unc)\n",
        "#print('radius in mm', a_mm, 'radius in m', a)\n",
        "#print('mass', m)\n",
        "#print('charge drop1 no source', q)\n",
        "\n",
        "########################################################################################\n",
        "\n",
        "avg_vr = np.mean(vr_unc)\n",
        "avg_vf = np.mean(vf_unc)\n",
        "\n",
        "avg_a = np.mean(a)\n",
        "avg_m = np.mean(m)\n",
        "avg_q = np.mean(q)\n",
        "\n",
        "print('average vel up', avg_vr)\n",
        "print('average vel down', avg_vf)\n",
        "print('average radius in m', avg_a)\n",
        "print('average mass', avg_m)\n",
        "print('average charge drop2 source 3', avg_q)\n"
      ],
      "metadata": {
        "colab": {
          "base_uri": "https://localhost:8080/"
        },
        "id": "aje66BTrzFli",
        "outputId": "36491765-6981-4793-d2d7-6af8efa9cf85"
      },
      "execution_count": 13,
      "outputs": [
        {
          "output_type": "stream",
          "name": "stdout",
          "text": [
            "average vel up 0.00045+/-0.00005\n",
            "average vel down 0.00049+/-0.00005\n",
            "average radius in m (2.11+/-0.11)e-06\n",
            "average mass (3.7+/-0.6)e-14\n",
            "average charge drop2 source 3 (1.05+/-0.16)e-17\n"
          ]
        }
      ]
    },
    {
      "cell_type": "code",
      "source": [
        "#DROP 2 SOURCE 4\n",
        "\n",
        "l = ufloat(5e-4, 0.00005)\n",
        "d = ufloat(7.64e-3, 0.005e-3)\n",
        "ro = ufloat(886, 0)\n",
        "g  = ufloat(9.8, 0)\n",
        "nu = ufloat(1.8360e-5, 0.002e-5)\n",
        "b = ufloat(8.20e-3, 0)\n",
        "p = ufloat(102505.98, 0)\n",
        "V = ufloat(499.63, 0.05)\n",
        "\n",
        "# Calculation of the fall and rise velocities, v_f, of the droplet #2 with alpha source 4\n",
        "\n",
        "tu_unc = unumpy.uarray([0.53, 0.53, 0.75, 0.69, 1.22, 1.66, 1.16, 2.12, 0.91, 0.79, 0.78, 1.06, 0.97, 0.94, 1.93], \n",
        "                       [0.005, 0.005, 0.005, 0.005, 0.005, 0.005, 0.005, 0.005, 0.005, 0.005, 0.005, 0.005, 0.005, 0.005, 0.005])\n",
        "td_unc = unumpy.uarray([0.53, 0.53, 0.59, 0.47, 0.88, 1.53, 1.75, 1.59, 1.38, 0.81, 0.69, 1.00, 1.34, 0.62, 1.35], \n",
        "                       [0.005, 0.005, 0.005, 0.005, 0.005, 0.005, 0.005, 0.005, 0.005, 0.005, 0.005, 0.005, 0.005, 0.005, 0.005])\n",
        "\n",
        "vr_unc = l/tu_unc\n",
        "vf_unc = l/td_unc\n",
        "\n",
        "# Calculation for the radius, a, of the droplet #2 with alpha source 4\n",
        "\n",
        "a = (( (b/(2*p))**2 + ((9*nu)/(2*g*ro))*(vf_unc) )**(1/2) - (b/(2*p))) \n",
        "\n",
        "# Calculation of the mass, m, of the droplet #2 with alpha source 4\n",
        "\n",
        "m = (4/3)*math.pi*ro * (a)**3\n",
        "\n",
        "# Calculation for the charge of an electron, q, of the droplet #2 with alpha source 4\n",
        "\n",
        "q = ((m*g*d)/(V*vf_unc)) * (vf_unc + vr_unc)\n",
        "\n",
        "#print('vel up', vr_unc)\n",
        "#print('vel down', vf_unc)\n",
        "#print('radius in mm', a_mm, 'radius in m', a)\n",
        "#print('mass', m)\n",
        "#print('charge drop1 no source', q)\n",
        "\n",
        "########################################################################################\n",
        "\n",
        "avg_vr = np.mean(vr_unc)\n",
        "avg_vf = np.mean(vf_unc)\n",
        "\n",
        "avg_a = np.mean(a)\n",
        "avg_m = np.mean(m)\n",
        "avg_q = np.mean(q)\n",
        "\n",
        "print('average vel up', avg_vr)\n",
        "print('average vel down', avg_vf)\n",
        "print('average radius in m', avg_a)\n",
        "print('average mass', avg_m)\n",
        "print('average charge drop2 source 4', avg_q)\n"
      ],
      "metadata": {
        "colab": {
          "base_uri": "https://localhost:8080/"
        },
        "id": "T_pZP1Lc0hHw",
        "outputId": "c54b6ec5-efe8-47d8-8c85-63c58109066c"
      },
      "execution_count": 14,
      "outputs": [
        {
          "output_type": "stream",
          "name": "stdout",
          "text": [
            "average vel up 0.00055+/-0.00006\n",
            "average vel down 0.00060+/-0.00006\n",
            "average radius in m (2.30+/-0.12)e-06\n",
            "average mass (5.2+/-0.8)e-14\n",
            "average charge drop2 source 4 (1.47+/-0.22)e-17\n"
          ]
        }
      ]
    }
  ]
}